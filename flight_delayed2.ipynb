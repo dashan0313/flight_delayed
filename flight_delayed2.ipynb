{
 "cells": [
  {
   "cell_type": "markdown",
   "metadata": {},
   "source": [
    "# 数据清洗\n",
    "## import train data"
   ]
  },
  {
   "cell_type": "code",
   "execution_count": 99,
   "metadata": {
    "hide_input": false
   },
   "outputs": [],
   "source": [
    "import numpy as np\n",
    "import pandas as pd\n",
    "import matplotlib.pyplot as plt\n",
    "import re \n",
    "%matplotlib inline"
   ]
  },
  {
   "cell_type": "code",
   "execution_count": 100,
   "metadata": {},
   "outputs": [
    {
     "data": {
      "text/html": [
       "<div>\n",
       "<style scoped>\n",
       "    .dataframe tbody tr th:only-of-type {\n",
       "        vertical-align: middle;\n",
       "    }\n",
       "\n",
       "    .dataframe tbody tr th {\n",
       "        vertical-align: top;\n",
       "    }\n",
       "\n",
       "    .dataframe thead th {\n",
       "        text-align: right;\n",
       "    }\n",
       "</style>\n",
       "<table border=\"1\" class=\"dataframe\">\n",
       "  <thead>\n",
       "    <tr style=\"text-align: right;\">\n",
       "      <th></th>\n",
       "      <th>Month</th>\n",
       "      <th>DayofMonth</th>\n",
       "      <th>DayOfWeek</th>\n",
       "      <th>DepTime</th>\n",
       "      <th>UniqueCarrier</th>\n",
       "      <th>Origin</th>\n",
       "      <th>Dest</th>\n",
       "      <th>Distance</th>\n",
       "      <th>dep_delayed_15min</th>\n",
       "    </tr>\n",
       "  </thead>\n",
       "  <tbody>\n",
       "    <tr>\n",
       "      <th>0</th>\n",
       "      <td>c-8</td>\n",
       "      <td>c-21</td>\n",
       "      <td>c-7</td>\n",
       "      <td>1934</td>\n",
       "      <td>AA</td>\n",
       "      <td>ATL</td>\n",
       "      <td>DFW</td>\n",
       "      <td>732</td>\n",
       "      <td>N</td>\n",
       "    </tr>\n",
       "    <tr>\n",
       "      <th>1</th>\n",
       "      <td>c-4</td>\n",
       "      <td>c-20</td>\n",
       "      <td>c-3</td>\n",
       "      <td>1548</td>\n",
       "      <td>US</td>\n",
       "      <td>PIT</td>\n",
       "      <td>MCO</td>\n",
       "      <td>834</td>\n",
       "      <td>N</td>\n",
       "    </tr>\n",
       "    <tr>\n",
       "      <th>2</th>\n",
       "      <td>c-9</td>\n",
       "      <td>c-2</td>\n",
       "      <td>c-5</td>\n",
       "      <td>1422</td>\n",
       "      <td>XE</td>\n",
       "      <td>RDU</td>\n",
       "      <td>CLE</td>\n",
       "      <td>416</td>\n",
       "      <td>N</td>\n",
       "    </tr>\n",
       "    <tr>\n",
       "      <th>3</th>\n",
       "      <td>c-11</td>\n",
       "      <td>c-25</td>\n",
       "      <td>c-6</td>\n",
       "      <td>1015</td>\n",
       "      <td>OO</td>\n",
       "      <td>DEN</td>\n",
       "      <td>MEM</td>\n",
       "      <td>872</td>\n",
       "      <td>N</td>\n",
       "    </tr>\n",
       "    <tr>\n",
       "      <th>4</th>\n",
       "      <td>c-10</td>\n",
       "      <td>c-7</td>\n",
       "      <td>c-6</td>\n",
       "      <td>1828</td>\n",
       "      <td>WN</td>\n",
       "      <td>MDW</td>\n",
       "      <td>OMA</td>\n",
       "      <td>423</td>\n",
       "      <td>Y</td>\n",
       "    </tr>\n",
       "  </tbody>\n",
       "</table>\n",
       "</div>"
      ],
      "text/plain": [
       "  Month DayofMonth DayOfWeek  DepTime UniqueCarrier Origin Dest  Distance  \\\n",
       "0   c-8       c-21       c-7     1934            AA    ATL  DFW       732   \n",
       "1   c-4       c-20       c-3     1548            US    PIT  MCO       834   \n",
       "2   c-9        c-2       c-5     1422            XE    RDU  CLE       416   \n",
       "3  c-11       c-25       c-6     1015            OO    DEN  MEM       872   \n",
       "4  c-10        c-7       c-6     1828            WN    MDW  OMA       423   \n",
       "\n",
       "  dep_delayed_15min  \n",
       "0                 N  \n",
       "1                 N  \n",
       "2                 N  \n",
       "3                 N  \n",
       "4                 Y  "
      ]
     },
     "execution_count": 100,
     "metadata": {},
     "output_type": "execute_result"
    }
   ],
   "source": [
    "#data\n",
    "data_train=pd.read_csv('flight_delays_train.csv')\n",
    "data_train.head()"
   ]
  },
  {
   "cell_type": "code",
   "execution_count": 101,
   "metadata": {
    "hide_input": true
   },
   "outputs": [
    {
     "name": "stdout",
     "output_type": "stream",
     "text": [
      "<class 'pandas.core.frame.DataFrame'>\n",
      "RangeIndex: 100000 entries, 0 to 99999\n",
      "Data columns (total 9 columns):\n",
      "Month                100000 non-null object\n",
      "DayofMonth           100000 non-null object\n",
      "DayOfWeek            100000 non-null object\n",
      "DepTime              100000 non-null int64\n",
      "UniqueCarrier        100000 non-null object\n",
      "Origin               100000 non-null object\n",
      "Dest                 100000 non-null object\n",
      "Distance             100000 non-null int64\n",
      "dep_delayed_15min    100000 non-null object\n",
      "dtypes: int64(2), object(7)\n",
      "memory usage: 6.9+ MB\n"
     ]
    }
   ],
   "source": [
    "data_train.info()"
   ]
  },
  {
   "cell_type": "markdown",
   "metadata": {},
   "source": [
    "## 数据修改（1）"
   ]
  },
  {
   "cell_type": "code",
   "execution_count": 102,
   "metadata": {
    "hide_input": false
   },
   "outputs": [],
   "source": [
    "#提取月份，日期和周\n",
    "data_train['Month'] = data_train['Month'].str[2:].astype('int')\n",
    "data_train['DayofMonth'] = data_train['DayofMonth'].str[2:].astype('int')\n",
    "data_train['DayOfWeek'] = data_train['DayOfWeek'].str[2:].astype('int')\n",
    "\n",
    "#把Y转换成0，1\n",
    "target_dict={'N':0,'Y':1}\n",
    "data_train['dep_delayed_15min']=data_train['dep_delayed_15min'].map(target_dict)\n",
    "\n",
    "#提取具体起飞小时，分钟\n",
    "data_train['DepTime_hour']=data_train['DepTime']//100\n",
    "data_train['DepTime_min']=data_train['DepTime']%100\n",
    "\n",
    "#将时间分割成早中晚三部分\n",
    "def hour_to_mae(x):\n",
    "    if (x>6) & (x<12):\n",
    "        return 'Morning'\n",
    "    elif (x>12) & (x<18):\n",
    "        return 'Afternoon'\n",
    "    else:\n",
    "        return 'Night'\n",
    "\n",
    "data_train['mae']=data_train['DepTime_hour'].map(hour_to_mae)"
   ]
  },
  {
   "cell_type": "code",
   "execution_count": 103,
   "metadata": {
    "hide_input": true,
    "scrolled": true
   },
   "outputs": [
    {
     "data": {
      "text/html": [
       "<div>\n",
       "<style scoped>\n",
       "    .dataframe tbody tr th:only-of-type {\n",
       "        vertical-align: middle;\n",
       "    }\n",
       "\n",
       "    .dataframe tbody tr th {\n",
       "        vertical-align: top;\n",
       "    }\n",
       "\n",
       "    .dataframe thead th {\n",
       "        text-align: right;\n",
       "    }\n",
       "</style>\n",
       "<table border=\"1\" class=\"dataframe\">\n",
       "  <thead>\n",
       "    <tr style=\"text-align: right;\">\n",
       "      <th></th>\n",
       "      <th>Month</th>\n",
       "      <th>DayofMonth</th>\n",
       "      <th>DayOfWeek</th>\n",
       "      <th>DepTime</th>\n",
       "      <th>UniqueCarrier</th>\n",
       "      <th>Origin</th>\n",
       "      <th>Dest</th>\n",
       "      <th>Distance</th>\n",
       "      <th>dep_delayed_15min</th>\n",
       "      <th>DepTime_hour</th>\n",
       "      <th>DepTime_min</th>\n",
       "      <th>mae</th>\n",
       "    </tr>\n",
       "  </thead>\n",
       "  <tbody>\n",
       "    <tr>\n",
       "      <th>0</th>\n",
       "      <td>8</td>\n",
       "      <td>21</td>\n",
       "      <td>7</td>\n",
       "      <td>1934</td>\n",
       "      <td>AA</td>\n",
       "      <td>ATL</td>\n",
       "      <td>DFW</td>\n",
       "      <td>732</td>\n",
       "      <td>0</td>\n",
       "      <td>19</td>\n",
       "      <td>34</td>\n",
       "      <td>Night</td>\n",
       "    </tr>\n",
       "    <tr>\n",
       "      <th>1</th>\n",
       "      <td>4</td>\n",
       "      <td>20</td>\n",
       "      <td>3</td>\n",
       "      <td>1548</td>\n",
       "      <td>US</td>\n",
       "      <td>PIT</td>\n",
       "      <td>MCO</td>\n",
       "      <td>834</td>\n",
       "      <td>0</td>\n",
       "      <td>15</td>\n",
       "      <td>48</td>\n",
       "      <td>Afternoon</td>\n",
       "    </tr>\n",
       "    <tr>\n",
       "      <th>2</th>\n",
       "      <td>9</td>\n",
       "      <td>2</td>\n",
       "      <td>5</td>\n",
       "      <td>1422</td>\n",
       "      <td>XE</td>\n",
       "      <td>RDU</td>\n",
       "      <td>CLE</td>\n",
       "      <td>416</td>\n",
       "      <td>0</td>\n",
       "      <td>14</td>\n",
       "      <td>22</td>\n",
       "      <td>Afternoon</td>\n",
       "    </tr>\n",
       "    <tr>\n",
       "      <th>3</th>\n",
       "      <td>11</td>\n",
       "      <td>25</td>\n",
       "      <td>6</td>\n",
       "      <td>1015</td>\n",
       "      <td>OO</td>\n",
       "      <td>DEN</td>\n",
       "      <td>MEM</td>\n",
       "      <td>872</td>\n",
       "      <td>0</td>\n",
       "      <td>10</td>\n",
       "      <td>15</td>\n",
       "      <td>Morning</td>\n",
       "    </tr>\n",
       "    <tr>\n",
       "      <th>4</th>\n",
       "      <td>10</td>\n",
       "      <td>7</td>\n",
       "      <td>6</td>\n",
       "      <td>1828</td>\n",
       "      <td>WN</td>\n",
       "      <td>MDW</td>\n",
       "      <td>OMA</td>\n",
       "      <td>423</td>\n",
       "      <td>1</td>\n",
       "      <td>18</td>\n",
       "      <td>28</td>\n",
       "      <td>Night</td>\n",
       "    </tr>\n",
       "  </tbody>\n",
       "</table>\n",
       "</div>"
      ],
      "text/plain": [
       "   Month  DayofMonth  DayOfWeek  DepTime UniqueCarrier Origin Dest  Distance  \\\n",
       "0      8          21          7     1934            AA    ATL  DFW       732   \n",
       "1      4          20          3     1548            US    PIT  MCO       834   \n",
       "2      9           2          5     1422            XE    RDU  CLE       416   \n",
       "3     11          25          6     1015            OO    DEN  MEM       872   \n",
       "4     10           7          6     1828            WN    MDW  OMA       423   \n",
       "\n",
       "   dep_delayed_15min  DepTime_hour  DepTime_min        mae  \n",
       "0                  0            19           34      Night  \n",
       "1                  0            15           48  Afternoon  \n",
       "2                  0            14           22  Afternoon  \n",
       "3                  0            10           15    Morning  \n",
       "4                  1            18           28      Night  "
      ]
     },
     "execution_count": 103,
     "metadata": {},
     "output_type": "execute_result"
    }
   ],
   "source": [
    "#查看现在的数据\n",
    "data_train.head()"
   ]
  },
  {
   "cell_type": "markdown",
   "metadata": {},
   "source": [
    "## 查看数据分布"
   ]
  },
  {
   "cell_type": "code",
   "execution_count": 104,
   "metadata": {
    "hide_input": true
   },
   "outputs": [
    {
     "data": {
      "text/plain": [
       "Text(0, 0.5, 'Distance')"
      ]
     },
     "execution_count": 104,
     "metadata": {},
     "output_type": "execute_result"
    },
    {
     "data": {
      "image/png": "[encoded data removed]",
      "text/plain": [
       "<Figure size 1152x792 with 6 Axes>"
      ]
     },
     "metadata": {
      "needs_background": "light"
     },
     "output_type": "display_data"
    }
   ],
   "source": [
    "fig = plt.figure(figsize=(16,11))\n",
    "fig.set(alpha=0.2) \n",
    "\n",
    "plt.subplot2grid((2,3),(0,0))   \n",
    "data_train.dep_delayed_15min.value_counts().plot(kind='bar')\n",
    "plt.title('Delay')\n",
    "plt.ylabel('count number')  \n",
    "\n",
    "plt.subplot2grid((2,3),(0,1))   \n",
    "data_train.Month.value_counts().plot(kind='bar')\n",
    "plt.title('Month')\n",
    "plt.ylabel('count number')  \n",
    "\n",
    "plt.subplot2grid((2,3),(0,2))   \n",
    "data_train.DayofMonth.value_counts().plot(kind='bar')\n",
    "plt.title('Day')\n",
    "plt.ylabel('count number')  \n",
    "\n",
    "plt.subplot2grid((2,3),(1,0))   \n",
    "data_train.DayOfWeek.value_counts().plot(kind='bar')\n",
    "plt.title('week')\n",
    "plt.ylabel('count number')  \n",
    "\n",
    "plt.subplot2grid((2,3),(1,0))   \n",
    "data_train.DayOfWeek.value_counts().plot(kind='bar')\n",
    "plt.title('week')\n",
    "plt.ylabel('count number')  \n",
    "\n",
    "plt.subplot2grid((2,3),(1,1))   \n",
    "data_train.mae.value_counts().plot(kind='bar')\n",
    "plt.title('Morning Afternoon Evening')\n",
    "plt.ylabel('count number')  \n",
    "\n",
    "plt.subplot2grid((2,3),(1,2))   \n",
    "data_train.Distance.plot(kind='kde',xlim=[0,6000])\n",
    "plt.title('Distance')\n",
    "plt.ylabel('Distance') "
   ]
  },
  {
   "cell_type": "markdown",
   "metadata": {},
   "source": [
    "## 观察各个特征和延误的大致关系"
   ]
  },
  {
   "cell_type": "markdown",
   "metadata": {},
   "source": [
    "### 月份"
   ]
  },
  {
   "cell_type": "code",
   "execution_count": 105,
   "metadata": {
    "hide_input": true,
    "scrolled": true
   },
   "outputs": [
    {
     "data": {
      "text/plain": [
       "<matplotlib.axes._subplots.AxesSubplot at 0x2141c806ef0>"
      ]
     },
     "execution_count": 105,
     "metadata": {},
     "output_type": "execute_result"
    },
    {
     "data": {
      "text/plain": [
       "<Figure size 576x576 with 0 Axes>"
      ]
     },
     "metadata": {},
     "output_type": "display_data"
    },
    {
     "data": {
      "image/png": "[encoded data removed]",
      "text/plain": [
       "<Figure size 432x288 with 1 Axes>"
      ]
     },
     "metadata": {
      "needs_background": "light"
     },
     "output_type": "display_data"
    },
    {
     "data": {
      "image/png": "[encoded data removed]",
      "text/plain": [
       "<Figure size 432x288 with 1 Axes>"
      ]
     },
     "metadata": {
      "needs_background": "light"
     },
     "output_type": "display_data"
    }
   ],
   "source": [
    "#月份\n",
    "fig = plt.figure(figsize=(8,8))\n",
    "fig.set(alpha=0.2) \n",
    "deley_month={}\n",
    "for month in range(1,13):\n",
    "    deley_month[month]=data_train.dep_delayed_15min[data_train.Month==month].value_counts()\n",
    "\n",
    "deley_month=pd.DataFrame(deley_month)\n",
    "\n",
    "deley_month.transpose().plot(kind='bar')\n",
    "plt.title('Month')\n",
    "plt.ylabel('count number')  \n",
    "plt.legend(['Not deley','deley'])\n",
    "\n",
    "fig = plt.figure()\n",
    "rate_month=deley_month.loc[1]/deley_month.sum()\n",
    "plt.ylabel('ratio')\n",
    "rate_month.plot()"
   ]
  },
  {
   "cell_type": "markdown",
   "metadata": {
    "hide_input": true
   },
   "source": [
    "### 天数"
   ]
  },
  {
   "cell_type": "code",
   "execution_count": 106,
   "metadata": {
    "hide_input": true
   },
   "outputs": [
    {
     "data": {
      "text/plain": [
       "<matplotlib.axes._subplots.AxesSubplot at 0x21427b67278>"
      ]
     },
     "execution_count": 106,
     "metadata": {},
     "output_type": "execute_result"
    },
    {
     "data": {
      "text/plain": [
       "<Figure size 576x576 with 0 Axes>"
      ]
     },
     "metadata": {},
     "output_type": "display_data"
    },
    {
     "data": {
      "image/png": "[encoded data removed]",
      "text/plain": [
       "<Figure size 432x288 with 1 Axes>"
      ]
     },
     "metadata": {
      "needs_background": "light"
     },
     "output_type": "display_data"
    },
    {
     "data": {
      "image/png": "[encoded data removed]",
      "text/plain": [
       "<Figure size 432x288 with 1 Axes>"
      ]
     },
     "metadata": {
      "needs_background": "light"
     },
     "output_type": "display_data"
    }
   ],
   "source": [
    "#天数\n",
    "fig = plt.figure(figsize=(8,8))\n",
    "fig.set(alpha=0.2) \n",
    "deley_day={}\n",
    "for day in range(1,32):\n",
    "    deley_day[day]=data_train.dep_delayed_15min[data_train.DayofMonth==day].value_counts()\n",
    "\n",
    "deley_day=pd.DataFrame(deley_day)\n",
    "\n",
    "deley_day.transpose().plot(kind='line')\n",
    "plt.title('Day')\n",
    "plt.ylabel('count number')  \n",
    "plt.legend(['Not deley','deley'])\n",
    "\n",
    "fig = plt.figure()\n",
    "rate_day=deley_day.loc[1]/deley_day.sum()\n",
    "plt.ylabel(\"ratio\")\n",
    "rate_day.plot()"
   ]
  },
  {
   "cell_type": "markdown",
   "metadata": {},
   "source": [
    "### 周"
   ]
  },
  {
   "cell_type": "code",
   "execution_count": 107,
   "metadata": {
    "hide_input": true
   },
   "outputs": [
    {
     "data": {
      "text/plain": [
       "<matplotlib.axes._subplots.AxesSubplot at 0x2142ace0400>"
      ]
     },
     "execution_count": 107,
     "metadata": {},
     "output_type": "execute_result"
    },
    {
     "data": {
      "text/plain": [
       "<Figure size 576x576 with 0 Axes>"
      ]
     },
     "metadata": {},
     "output_type": "display_data"
    },
    {
     "data": {
      "image/png": "[encoded data removed]",
      "text/plain": [
       "<Figure size 432x288 with 1 Axes>"
      ]
     },
     "metadata": {
      "needs_background": "light"
     },
     "output_type": "display_data"
    },
    {
     "data": {
      "image/png": "[encoded data removed]",
      "text/plain": [
       "<Figure size 432x288 with 1 Axes>"
      ]
     },
     "metadata": {
      "needs_background": "light"
     },
     "output_type": "display_data"
    }
   ],
   "source": [
    "#week\n",
    "fig = plt.figure(figsize=(8,8))\n",
    "fig.set(alpha=0.2) \n",
    "deley_week={}\n",
    "for week in range(1,8):\n",
    "    deley_week[week]=data_train.dep_delayed_15min[data_train.DayOfWeek==week].value_counts()\n",
    "\n",
    "deley_week=pd.DataFrame(deley_week)\n",
    "\n",
    "deley_week.transpose().plot(kind='line')\n",
    "plt.title('Week')\n",
    "plt.ylabel('count number')  \n",
    "plt.legend(['Not deley','deley'])\n",
    "\n",
    "fig = plt.figure()\n",
    "rate_week=deley_week.loc[1]/deley_week.sum()\n",
    "plt.ylabel(\"ratio\")\n",
    "rate_week.plot()"
   ]
  },
  {
   "cell_type": "markdown",
   "metadata": {
    "hide_input": true
   },
   "source": [
    "### 早中晚mae的差别"
   ]
  },
  {
   "cell_type": "code",
   "execution_count": 108,
   "metadata": {
    "hide_input": true
   },
   "outputs": [
    {
     "data": {
      "text/plain": [
       "<matplotlib.axes._subplots.AxesSubplot at 0x2142ad9feb8>"
      ]
     },
     "execution_count": 108,
     "metadata": {},
     "output_type": "execute_result"
    },
    {
     "data": {
      "text/plain": [
       "<Figure size 576x576 with 0 Axes>"
      ]
     },
     "metadata": {},
     "output_type": "display_data"
    },
    {
     "data": {
      "image/png": "[encoded data removed]",
      "text/plain": [
       "<Figure size 432x288 with 1 Axes>"
      ]
     },
     "metadata": {
      "needs_background": "light"
     },
     "output_type": "display_data"
    },
    {
     "data": {
      "image/png": "[encoded data removed]",
      "text/plain": [
       "<Figure size 432x288 with 1 Axes>"
      ]
     },
     "metadata": {
      "needs_background": "light"
     },
     "output_type": "display_data"
    }
   ],
   "source": [
    "#mae\n",
    "fig = plt.figure(figsize=(8,8))\n",
    "fig.set(alpha=0.2) \n",
    "deley_mae={}\n",
    "for mae in ['Morning','Afternoon','Night']:\n",
    "    deley_mae[mae]=data_train.dep_delayed_15min[data_train.mae==mae].value_counts()\n",
    "\n",
    "deley_mae=pd.DataFrame(deley_mae)\n",
    "\n",
    "deley_mae.transpose().plot(kind='bar')\n",
    "plt.title('mae')\n",
    "plt.ylabel('count number')  \n",
    "plt.legend(['Not deley','deley'])\n",
    "\n",
    "fig = plt.figure()\n",
    "rate_mae=deley_mae.loc[1]/deley_mae.sum()\n",
    "plt.ylabel('ratio')\n",
    "rate_mae.plot()"
   ]
  },
  {
   "cell_type": "markdown",
   "metadata": {
    "hide_input": true
   },
   "source": [
    "### 距离"
   ]
  },
  {
   "cell_type": "code",
   "execution_count": 109,
   "metadata": {
    "hide_input": true
   },
   "outputs": [
    {
     "data": {
      "text/html": [
       "<div>\n",
       "<style scoped>\n",
       "    .dataframe tbody tr th:only-of-type {\n",
       "        vertical-align: middle;\n",
       "    }\n",
       "\n",
       "    .dataframe tbody tr th {\n",
       "        vertical-align: top;\n",
       "    }\n",
       "\n",
       "    .dataframe thead th {\n",
       "        text-align: right;\n",
       "    }\n",
       "</style>\n",
       "<table border=\"1\" class=\"dataframe\">\n",
       "  <thead>\n",
       "    <tr style=\"text-align: right;\">\n",
       "      <th></th>\n",
       "      <th>deley</th>\n",
       "      <th>not deley</th>\n",
       "    </tr>\n",
       "  </thead>\n",
       "  <tbody>\n",
       "    <tr>\n",
       "      <th>count</th>\n",
       "      <td>19044.000000</td>\n",
       "      <td>80956.000000</td>\n",
       "    </tr>\n",
       "    <tr>\n",
       "      <th>mean</th>\n",
       "      <td>726.157740</td>\n",
       "      <td>730.159198</td>\n",
       "    </tr>\n",
       "    <tr>\n",
       "      <th>std</th>\n",
       "      <td>544.388349</td>\n",
       "      <td>581.500132</td>\n",
       "    </tr>\n",
       "    <tr>\n",
       "      <th>min</th>\n",
       "      <td>30.000000</td>\n",
       "      <td>31.000000</td>\n",
       "    </tr>\n",
       "    <tr>\n",
       "      <th>25%</th>\n",
       "      <td>328.000000</td>\n",
       "      <td>316.000000</td>\n",
       "    </tr>\n",
       "    <tr>\n",
       "      <th>50%</th>\n",
       "      <td>589.000000</td>\n",
       "      <td>569.000000</td>\n",
       "    </tr>\n",
       "    <tr>\n",
       "      <th>75%</th>\n",
       "      <td>954.000000</td>\n",
       "      <td>957.000000</td>\n",
       "    </tr>\n",
       "    <tr>\n",
       "      <th>max</th>\n",
       "      <td>4962.000000</td>\n",
       "      <td>4962.000000</td>\n",
       "    </tr>\n",
       "  </tbody>\n",
       "</table>\n",
       "</div>"
      ],
      "text/plain": [
       "              deley     not deley\n",
       "count  19044.000000  80956.000000\n",
       "mean     726.157740    730.159198\n",
       "std      544.388349    581.500132\n",
       "min       30.000000     31.000000\n",
       "25%      328.000000    316.000000\n",
       "50%      589.000000    569.000000\n",
       "75%      954.000000    957.000000\n",
       "max     4962.000000   4962.000000"
      ]
     },
     "execution_count": 109,
     "metadata": {},
     "output_type": "execute_result"
    },
    {
     "data": {
      "text/plain": [
       "<Figure size 576x576 with 0 Axes>"
      ]
     },
     "metadata": {},
     "output_type": "display_data"
    },
    {
     "data": {
      "image/png": "[encoded data removed]",
      "text/plain": [
       "<Figure size 432x288 with 1 Axes>"
      ]
     },
     "metadata": {
      "needs_background": "light"
     },
     "output_type": "display_data"
    }
   ],
   "source": [
    "#距离\n",
    "fig = plt.figure(figsize=(8,8))\n",
    "fig.set(alpha=0.2) \n",
    "\n",
    "distance_deley=data_train.Distance[data_train.dep_delayed_15min==1]\n",
    "distance_notdeley=data_train.Distance[data_train.dep_delayed_15min==0]\n",
    "\n",
    "dis=pd.DataFrame({'deley':distance_deley,'not deley':distance_notdeley})\n",
    "dis.plot(kind='box')\n",
    "dis.describe()"
   ]
  },
  {
   "cell_type": "markdown",
   "metadata": {},
   "source": [
    "## 因子\n",
    "### data_train"
   ]
  },
  {
   "cell_type": "code",
   "execution_count": 110,
   "metadata": {
    "hide_input": false,
    "scrolled": false
   },
   "outputs": [
    {
     "data": {
      "text/html": [
       "<div>\n",
       "<style scoped>\n",
       "    .dataframe tbody tr th:only-of-type {\n",
       "        vertical-align: middle;\n",
       "    }\n",
       "\n",
       "    .dataframe tbody tr th {\n",
       "        vertical-align: top;\n",
       "    }\n",
       "\n",
       "    .dataframe thead th {\n",
       "        text-align: right;\n",
       "    }\n",
       "</style>\n",
       "<table border=\"1\" class=\"dataframe\">\n",
       "  <thead>\n",
       "    <tr style=\"text-align: right;\">\n",
       "      <th></th>\n",
       "      <th>Month</th>\n",
       "      <th>DayofMonth</th>\n",
       "      <th>DayOfWeek</th>\n",
       "      <th>DepTime</th>\n",
       "      <th>Origin</th>\n",
       "      <th>Dest</th>\n",
       "      <th>Distance</th>\n",
       "      <th>dep_delayed_15min</th>\n",
       "      <th>DepTime_hour</th>\n",
       "      <th>DepTime_min</th>\n",
       "      <th>...</th>\n",
       "      <th>UniqueCarrier_MQ</th>\n",
       "      <th>UniqueCarrier_NW</th>\n",
       "      <th>UniqueCarrier_OH</th>\n",
       "      <th>UniqueCarrier_OO</th>\n",
       "      <th>UniqueCarrier_TZ</th>\n",
       "      <th>UniqueCarrier_UA</th>\n",
       "      <th>UniqueCarrier_US</th>\n",
       "      <th>UniqueCarrier_WN</th>\n",
       "      <th>UniqueCarrier_XE</th>\n",
       "      <th>UniqueCarrier_YV</th>\n",
       "    </tr>\n",
       "  </thead>\n",
       "  <tbody>\n",
       "    <tr>\n",
       "      <th>0</th>\n",
       "      <td>8</td>\n",
       "      <td>21</td>\n",
       "      <td>7</td>\n",
       "      <td>1934</td>\n",
       "      <td>ATL</td>\n",
       "      <td>DFW</td>\n",
       "      <td>732</td>\n",
       "      <td>0</td>\n",
       "      <td>19</td>\n",
       "      <td>34</td>\n",
       "      <td>...</td>\n",
       "      <td>0</td>\n",
       "      <td>0</td>\n",
       "      <td>0</td>\n",
       "      <td>0</td>\n",
       "      <td>0</td>\n",
       "      <td>0</td>\n",
       "      <td>0</td>\n",
       "      <td>0</td>\n",
       "      <td>0</td>\n",
       "      <td>0</td>\n",
       "    </tr>\n",
       "    <tr>\n",
       "      <th>1</th>\n",
       "      <td>4</td>\n",
       "      <td>20</td>\n",
       "      <td>3</td>\n",
       "      <td>1548</td>\n",
       "      <td>PIT</td>\n",
       "      <td>MCO</td>\n",
       "      <td>834</td>\n",
       "      <td>0</td>\n",
       "      <td>15</td>\n",
       "      <td>48</td>\n",
       "      <td>...</td>\n",
       "      <td>0</td>\n",
       "      <td>0</td>\n",
       "      <td>0</td>\n",
       "      <td>0</td>\n",
       "      <td>0</td>\n",
       "      <td>0</td>\n",
       "      <td>1</td>\n",
       "      <td>0</td>\n",
       "      <td>0</td>\n",
       "      <td>0</td>\n",
       "    </tr>\n",
       "    <tr>\n",
       "      <th>2</th>\n",
       "      <td>9</td>\n",
       "      <td>2</td>\n",
       "      <td>5</td>\n",
       "      <td>1422</td>\n",
       "      <td>RDU</td>\n",
       "      <td>CLE</td>\n",
       "      <td>416</td>\n",
       "      <td>0</td>\n",
       "      <td>14</td>\n",
       "      <td>22</td>\n",
       "      <td>...</td>\n",
       "      <td>0</td>\n",
       "      <td>0</td>\n",
       "      <td>0</td>\n",
       "      <td>0</td>\n",
       "      <td>0</td>\n",
       "      <td>0</td>\n",
       "      <td>0</td>\n",
       "      <td>0</td>\n",
       "      <td>1</td>\n",
       "      <td>0</td>\n",
       "    </tr>\n",
       "    <tr>\n",
       "      <th>3</th>\n",
       "      <td>11</td>\n",
       "      <td>25</td>\n",
       "      <td>6</td>\n",
       "      <td>1015</td>\n",
       "      <td>DEN</td>\n",
       "      <td>MEM</td>\n",
       "      <td>872</td>\n",
       "      <td>0</td>\n",
       "      <td>10</td>\n",
       "      <td>15</td>\n",
       "      <td>...</td>\n",
       "      <td>0</td>\n",
       "      <td>0</td>\n",
       "      <td>0</td>\n",
       "      <td>1</td>\n",
       "      <td>0</td>\n",
       "      <td>0</td>\n",
       "      <td>0</td>\n",
       "      <td>0</td>\n",
       "      <td>0</td>\n",
       "      <td>0</td>\n",
       "    </tr>\n",
       "    <tr>\n",
       "      <th>4</th>\n",
       "      <td>10</td>\n",
       "      <td>7</td>\n",
       "      <td>6</td>\n",
       "      <td>1828</td>\n",
       "      <td>MDW</td>\n",
       "      <td>OMA</td>\n",
       "      <td>423</td>\n",
       "      <td>1</td>\n",
       "      <td>18</td>\n",
       "      <td>28</td>\n",
       "      <td>...</td>\n",
       "      <td>0</td>\n",
       "      <td>0</td>\n",
       "      <td>0</td>\n",
       "      <td>0</td>\n",
       "      <td>0</td>\n",
       "      <td>0</td>\n",
       "      <td>0</td>\n",
       "      <td>1</td>\n",
       "      <td>0</td>\n",
       "      <td>0</td>\n",
       "    </tr>\n",
       "  </tbody>\n",
       "</table>\n",
       "<p>5 rows × 613 columns</p>\n",
       "</div>"
      ],
      "text/plain": [
       "   Month  DayofMonth  DayOfWeek  DepTime Origin Dest  Distance  \\\n",
       "0      8          21          7     1934    ATL  DFW       732   \n",
       "1      4          20          3     1548    PIT  MCO       834   \n",
       "2      9           2          5     1422    RDU  CLE       416   \n",
       "3     11          25          6     1015    DEN  MEM       872   \n",
       "4     10           7          6     1828    MDW  OMA       423   \n",
       "\n",
       "   dep_delayed_15min  DepTime_hour  DepTime_min  ...  UniqueCarrier_MQ  \\\n",
       "0                  0            19           34  ...                 0   \n",
       "1                  0            15           48  ...                 0   \n",
       "2                  0            14           22  ...                 0   \n",
       "3                  0            10           15  ...                 0   \n",
       "4                  1            18           28  ...                 0   \n",
       "\n",
       "   UniqueCarrier_NW  UniqueCarrier_OH  UniqueCarrier_OO  UniqueCarrier_TZ  \\\n",
       "0                 0                 0                 0                 0   \n",
       "1                 0                 0                 0                 0   \n",
       "2                 0                 0                 0                 0   \n",
       "3                 0                 0                 1                 0   \n",
       "4                 0                 0                 0                 0   \n",
       "\n",
       "   UniqueCarrier_UA  UniqueCarrier_US  UniqueCarrier_WN  UniqueCarrier_XE  \\\n",
       "0                 0                 0                 0                 0   \n",
       "1                 0                 1                 0                 0   \n",
       "2                 0                 0                 0                 1   \n",
       "3                 0                 0                 0                 0   \n",
       "4                 0                 0                 1                 0   \n",
       "\n",
       "   UniqueCarrier_YV  \n",
       "0                 0  \n",
       "1                 0  \n",
       "2                 0  \n",
       "3                 0  \n",
       "4                 0  \n",
       "\n",
       "[5 rows x 613 columns]"
      ]
     },
     "execution_count": 110,
     "metadata": {},
     "output_type": "execute_result"
    }
   ],
   "source": [
    "dummies_mae=pd.get_dummies(data_train['mae'],prefix='mae')\n",
    "dummies_Origin=pd.get_dummies(data_train['Origin'],prefix='Origin')\n",
    "dummies_Dest=pd.get_dummies(data_train['Dest'],prefix='Dest')\n",
    "dummies_UniqueCarrier=pd.get_dummies(data_train['UniqueCarrier'],prefix='UniqueCarrier')\n",
    "\n",
    "data_train=pd.concat([data_train,dummies_mae,dummies_Origin,dummies_Dest,dummies_UniqueCarrier],axis=1)\n",
    "data_train.drop(['mae'],inplace=True,axis=1)\n",
    "data_train.drop(['UniqueCarrier'],inplace=True,axis=1)\n",
    "\n",
    "data_train.head()"
   ]
  },
  {
   "cell_type": "markdown",
   "metadata": {},
   "source": [
    "## 转出大机场小机场(2)(3)"
   ]
  },
  {
   "cell_type": "code",
   "execution_count": 111,
   "metadata": {
    "hide_input": false
   },
   "outputs": [],
   "source": [
    "airport=pd.read_csv('airport_nonull.csv')\n",
    "#所有出现过的机场\n",
    "place=set(data_train['Dest'].values)|set(data_train['Origin'].values)\n",
    "#建立转换字典\n",
    "place2type={airport.iata_code.values[i]:airport.type.values[i] for i in range(9120) if airport.iata_code.values[i] in place}\n",
    "\n",
    "data_train['Dest_type']=data_train['Dest'].map(place2type)\n",
    "data_train['Origin_type']=data_train['Origin'].map(place2type)\n",
    "\n",
    "dummies_train_Dest=pd.get_dummies(data_train['Dest_type'],prefix='Dest_type')\n",
    "dummies_train_Origin=pd.get_dummies(data_train['Origin_type'],prefix='Origin_type')\n",
    "data_train=pd.concat([data_train,dummies_train_Dest,dummies_train_Origin],axis=1)\n",
    "\n",
    "#data_train.drop(['Dest_type'],inplace=True,axis=1)\n",
    "#data_train.drop(['Origin_type'],inplace=True,axis=1)\n",
    "data_train.drop(['Origin'],inplace=True,axis=1)\n",
    "data_train.drop(['Dest'],inplace=True,axis=1)"
   ]
  },
  {
   "cell_type": "markdown",
   "metadata": {},
   "source": [
    "### 绘图比较机场大小的影响"
   ]
  },
  {
   "cell_type": "code",
   "execution_count": 112,
   "metadata": {},
   "outputs": [
    {
     "data": {
      "text/plain": [
       "<matplotlib.legend.Legend at 0x21435bd7860>"
      ]
     },
     "execution_count": 112,
     "metadata": {},
     "output_type": "execute_result"
    },
    {
     "data": {
      "text/plain": [
       "<Figure size 432x288 with 0 Axes>"
      ]
     },
     "metadata": {},
     "output_type": "display_data"
    },
    {
     "data": {
      "image/png": "[encoded data removed]",
      "text/plain": [
       "<Figure size 432x288 with 1 Axes>"
      ]
     },
     "metadata": {
      "needs_background": "light"
     },
     "output_type": "display_data"
    },
    {
     "data": {
      "image/png": "[encoded data removed]",
      "text/plain": [
       "<Figure size 432x288 with 1 Axes>"
      ]
     },
     "metadata": {
      "needs_background": "light"
     },
     "output_type": "display_data"
    }
   ],
   "source": [
    "plt.figure()\n",
    "deley_dest={}\n",
    "for tp in ['large_airport','medium_airport','small_airport']:\n",
    "    deley_dest[tp]=data_train.dep_delayed_15min[data_train.Dest_type==tp].value_counts()\n",
    "\n",
    "deley_dest=pd.DataFrame(deley_dest)\n",
    "\n",
    "deley_dest.transpose().plot()\n",
    "plt.title('Destination type')\n",
    "plt.ylabel('count number')  \n",
    "plt.legend(['Not deley','deley'])\n",
    "\n",
    "plt.figure()\n",
    "rate_dest=deley_dest.loc[1]/deley_dest.sum()\n",
    "rate_dest.plot(kind='bar',ylim=[0.16,0.2])\n",
    "plt.title('Destination type / rate')\n",
    "plt.ylabel('rate')  \n",
    "plt.legend('delay rate')"
   ]
  },
  {
   "cell_type": "code",
   "execution_count": 113,
   "metadata": {},
   "outputs": [
    {
     "data": {
      "text/plain": [
       "<matplotlib.legend.Legend at 0x21435cc3710>"
      ]
     },
     "execution_count": 113,
     "metadata": {},
     "output_type": "execute_result"
    },
    {
     "data": {
      "text/plain": [
       "<Figure size 432x288 with 0 Axes>"
      ]
     },
     "metadata": {},
     "output_type": "display_data"
    },
    {
     "data": {
      "image/png": "[encoded data removed]",
      "text/plain": [
       "<Figure size 432x288 with 1 Axes>"
      ]
     },
     "metadata": {
      "needs_background": "light"
     },
     "output_type": "display_data"
    },
    {
     "data": {
      "image/png": "[encoded data removed]",
      "text/plain": [
       "<Figure size 432x288 with 1 Axes>"
      ]
     },
     "metadata": {
      "needs_background": "light"
     },
     "output_type": "display_data"
    }
   ],
   "source": [
    "plt.figure()\n",
    "deley_orign={}\n",
    "for tp in ['large_airport','medium_airport','small_airport']:\n",
    "    deley_orign[tp]=data_train.dep_delayed_15min[data_train.Origin_type==tp].value_counts()\n",
    "\n",
    "deley_orign=pd.DataFrame(deley_orign)\n",
    "\n",
    "deley_orign.transpose().plot()\n",
    "plt.title('Origin type')\n",
    "plt.ylabel('count number')  \n",
    "plt.legend(['Not deley','deley'])\n",
    "\n",
    "plt.figure()\n",
    "rate_orign=deley_orign.loc[1]/deley_orign.sum()\n",
    "rate_orign.plot(kind='bar',ylim=[0.1,0.3])\n",
    "plt.title('Origin type / rate')\n",
    "plt.ylabel('rate')  \n",
    "plt.legend('delay rate')"
   ]
  },
  {
   "cell_type": "code",
   "execution_count": 114,
   "metadata": {},
   "outputs": [],
   "source": [
    "data_train.drop(['Dest_type'],inplace=True,axis=1)\n",
    "data_train.drop(['Origin_type'],inplace=True,axis=1)"
   ]
  },
  {
   "cell_type": "markdown",
   "metadata": {},
   "source": [
    "**现在data_train拥有的数据：**  \n",
    "1.Month    \n",
    "2.DayofMonth    \n",
    "3.DayOfWeek    \n",
    "4.DepTime    \n",
    "5.UniuqeCarrier_  \n",
    "6.Origin_  \n",
    "7.Dest_  \n",
    "8.Distance    \n",
    "9.dep_delayed_15min  \n",
    "10.DepTime_hour  \n",
    "11.DepTime_min  \n",
    "12.Dest_type_  \n",
    "13.Origin_type_  \n",
    "14.mae_"
   ]
  },
  {
   "cell_type": "code",
   "execution_count": 115,
   "metadata": {},
   "outputs": [
    {
     "name": "stdout",
     "output_type": "stream",
     "text": [
      "<class 'pandas.core.frame.DataFrame'>\n",
      "RangeIndex: 100000 entries, 0 to 99999\n",
      "Data columns (total 617 columns):\n",
      "Month                         int32\n",
      "DayofMonth                    int32\n",
      "DayOfWeek                     int32\n",
      "DepTime                       int64\n",
      "Distance                      int64\n",
      "dep_delayed_15min             int64\n",
      "DepTime_hour                  int64\n",
      "DepTime_min                   int64\n",
      "mae_Afternoon                 uint8\n",
      "mae_Morning                   uint8\n",
      "mae_Night                     uint8\n",
      "Origin_ABE                    uint8\n",
      "Origin_ABI                    uint8\n",
      "Origin_ABQ                    uint8\n",
      "Origin_ABY                    uint8\n",
      "Origin_ACK                    uint8\n",
      "Origin_ACT                    uint8\n",
      "Origin_ACV                    uint8\n",
      "Origin_ACY                    uint8\n",
      "Origin_ADK                    uint8\n",
      "Origin_ADQ                    uint8\n",
      "Origin_AEX                    uint8\n",
      "Origin_AGS                    uint8\n",
      "Origin_AKN                    uint8\n",
      "Origin_ALB                    uint8\n",
      "Origin_AMA                    uint8\n",
      "Origin_ANC                    uint8\n",
      "Origin_APF                    uint8\n",
      "Origin_ASE                    uint8\n",
      "Origin_ATL                    uint8\n",
      "Origin_ATW                    uint8\n",
      "Origin_AUS                    uint8\n",
      "Origin_AVL                    uint8\n",
      "Origin_AVP                    uint8\n",
      "Origin_AZO                    uint8\n",
      "Origin_BDL                    uint8\n",
      "Origin_BET                    uint8\n",
      "Origin_BFL                    uint8\n",
      "Origin_BGM                    uint8\n",
      "Origin_BGR                    uint8\n",
      "Origin_BHM                    uint8\n",
      "Origin_BIL                    uint8\n",
      "Origin_BIS                    uint8\n",
      "Origin_BLI                    uint8\n",
      "Origin_BMI                    uint8\n",
      "Origin_BNA                    uint8\n",
      "Origin_BOI                    uint8\n",
      "Origin_BOS                    uint8\n",
      "Origin_BPT                    uint8\n",
      "Origin_BQK                    uint8\n",
      "Origin_BQN                    uint8\n",
      "Origin_BRO                    uint8\n",
      "Origin_BRW                    uint8\n",
      "Origin_BTM                    uint8\n",
      "Origin_BTR                    uint8\n",
      "Origin_BTV                    uint8\n",
      "Origin_BUF                    uint8\n",
      "Origin_BUR                    uint8\n",
      "Origin_BWI                    uint8\n",
      "Origin_BZN                    uint8\n",
      "Origin_CAE                    uint8\n",
      "Origin_CAK                    uint8\n",
      "Origin_CDC                    uint8\n",
      "Origin_CDV                    uint8\n",
      "Origin_CEC                    uint8\n",
      "Origin_CHA                    uint8\n",
      "Origin_CHO                    uint8\n",
      "Origin_CHS                    uint8\n",
      "Origin_CIC                    uint8\n",
      "Origin_CID                    uint8\n",
      "Origin_CLD                    uint8\n",
      "Origin_CLE                    uint8\n",
      "Origin_CLL                    uint8\n",
      "Origin_CLT                    uint8\n",
      "Origin_CMH                    uint8\n",
      "Origin_CMI                    uint8\n",
      "Origin_COD                    uint8\n",
      "Origin_COS                    uint8\n",
      "Origin_CPR                    uint8\n",
      "Origin_CRP                    uint8\n",
      "Origin_CRW                    uint8\n",
      "Origin_CSG                    uint8\n",
      "Origin_CVG                    uint8\n",
      "Origin_CWA                    uint8\n",
      "Origin_DAB                    uint8\n",
      "Origin_DAL                    uint8\n",
      "Origin_DAY                    uint8\n",
      "Origin_DBQ                    uint8\n",
      "Origin_DCA                    uint8\n",
      "Origin_DEN                    uint8\n",
      "Origin_DFW                    uint8\n",
      "Origin_DHN                    uint8\n",
      "Origin_DLG                    uint8\n",
      "Origin_DLH                    uint8\n",
      "Origin_DRO                    uint8\n",
      "Origin_DSM                    uint8\n",
      "Origin_DTW                    uint8\n",
      "Origin_EGE                    uint8\n",
      "Origin_EKO                    uint8\n",
      "Origin_ELP                    uint8\n",
      "Origin_ERI                    uint8\n",
      "Origin_EUG                    uint8\n",
      "Origin_EVV                    uint8\n",
      "Origin_EWR                    uint8\n",
      "Origin_EYW                    uint8\n",
      "Origin_FAI                    uint8\n",
      "Origin_FAR                    uint8\n",
      "Origin_FAT                    uint8\n",
      "Origin_FAY                    uint8\n",
      "Origin_FCA                    uint8\n",
      "Origin_FLG                    uint8\n",
      "Origin_FLL                    uint8\n",
      "Origin_FLO                    uint8\n",
      "Origin_FNT                    uint8\n",
      "Origin_FSD                    uint8\n",
      "Origin_FSM                    uint8\n",
      "Origin_FWA                    uint8\n",
      "Origin_GEG                    uint8\n",
      "Origin_GFK                    uint8\n",
      "Origin_GGG                    uint8\n",
      "Origin_GJT                    uint8\n",
      "Origin_GNV                    uint8\n",
      "Origin_GPT                    uint8\n",
      "Origin_GRB                    uint8\n",
      "Origin_GRK                    uint8\n",
      "Origin_GRR                    uint8\n",
      "Origin_GSO                    uint8\n",
      "Origin_GSP                    uint8\n",
      "Origin_GST                    uint8\n",
      "Origin_GTF                    uint8\n",
      "Origin_GTR                    uint8\n",
      "Origin_GUC                    uint8\n",
      "Origin_HDN                    uint8\n",
      "Origin_HKY                    uint8\n",
      "Origin_HLN                    uint8\n",
      "Origin_HNL                    uint8\n",
      "Origin_HOU                    uint8\n",
      "Origin_HPN                    uint8\n",
      "Origin_HRL                    uint8\n",
      "Origin_HSV                    uint8\n",
      "Origin_HTS                    uint8\n",
      "Origin_HVN                    uint8\n",
      "Origin_IAD                    uint8\n",
      "Origin_IAH                    uint8\n",
      "Origin_ICT                    uint8\n",
      "Origin_IDA                    uint8\n",
      "Origin_ILG                    uint8\n",
      "Origin_ILM                    uint8\n",
      "Origin_IND                    uint8\n",
      "Origin_IPL                    uint8\n",
      "Origin_ISO                    uint8\n",
      "Origin_ISP                    uint8\n",
      "Origin_ITO                    uint8\n",
      "Origin_IYK                    uint8\n",
      "Origin_JAC                    uint8\n",
      "Origin_JAN                    uint8\n",
      "Origin_JAX                    uint8\n",
      "Origin_JFK                    uint8\n",
      "Origin_JNU                    uint8\n",
      "Origin_KOA                    uint8\n",
      "Origin_KTN                    uint8\n",
      "Origin_LAN                    uint8\n",
      "Origin_LAS                    uint8\n",
      "Origin_LAW                    uint8\n",
      "Origin_LAX                    uint8\n",
      "Origin_LBB                    uint8\n",
      "Origin_LCH                    uint8\n",
      "Origin_LEX                    uint8\n",
      "Origin_LFT                    uint8\n",
      "Origin_LGA                    uint8\n",
      "Origin_LGB                    uint8\n",
      "Origin_LIH                    uint8\n",
      "Origin_LIT                    uint8\n",
      "Origin_LNK                    uint8\n",
      "Origin_LRD                    uint8\n",
      "Origin_LSE                    uint8\n",
      "Origin_LWB                    uint8\n",
      "Origin_LWS                    uint8\n",
      "Origin_LYH                    uint8\n",
      "Origin_MAF                    uint8\n",
      "Origin_MBS                    uint8\n",
      "Origin_MCI                    uint8\n",
      "Origin_MCN                    uint8\n",
      "Origin_MCO                    uint8\n",
      "Origin_MDT                    uint8\n",
      "Origin_MDW                    uint8\n",
      "Origin_MEI                    uint8\n",
      "Origin_MEM                    uint8\n",
      "Origin_MFE                    uint8\n",
      "Origin_MFR                    uint8\n",
      "Origin_MGM                    uint8\n",
      "Origin_MHT                    uint8\n",
      "Origin_MIA                    uint8\n",
      "Origin_MKE                    uint8\n",
      "Origin_MLB                    uint8\n",
      "Origin_MLI                    uint8\n",
      "Origin_MLU                    uint8\n",
      "Origin_MOB                    uint8\n",
      "Origin_MOD                    uint8\n",
      "Origin_MOT                    uint8\n",
      "Origin_MQT                    uint8\n",
      "Origin_MRY                    uint8\n",
      "Origin_MSN                    uint8\n",
      "Origin_MSO                    uint8\n",
      "Origin_MSP                    uint8\n",
      "Origin_MSY                    uint8\n",
      "Origin_MTJ                    uint8\n",
      "Origin_MYR                    uint8\n",
      "Origin_OAJ                    uint8\n",
      "Origin_OAK                    uint8\n",
      "Origin_OGG                    uint8\n",
      "Origin_OKC                    uint8\n",
      "Origin_OMA                    uint8\n",
      "Origin_OME                    uint8\n",
      "Origin_ONT                    uint8\n",
      "Origin_ORD                    uint8\n",
      "Origin_ORF                    uint8\n",
      "Origin_OTZ                    uint8\n",
      "Origin_OXR                    uint8\n",
      "Origin_PBI                    uint8\n",
      "Origin_PDX                    uint8\n",
      "Origin_PFN                    uint8\n",
      "Origin_PHF                    uint8\n",
      "Origin_PHL                    uint8\n",
      "Origin_PHX                    uint8\n",
      "Origin_PIA                    uint8\n",
      "Origin_PIE                    uint8\n",
      "Origin_PIH                    uint8\n",
      "Origin_PIT                    uint8\n",
      "Origin_PNS                    uint8\n",
      "Origin_PSC                    uint8\n",
      "Origin_PSE                    uint8\n",
      "Origin_PSG                    uint8\n",
      "Origin_PSP                    uint8\n",
      "Origin_PVD                    uint8\n",
      "Origin_PWM                    uint8\n",
      "Origin_RAP                    uint8\n",
      "Origin_RDD                    uint8\n",
      "Origin_RDM                    uint8\n",
      "Origin_RDU                    uint8\n",
      "Origin_RFD                    uint8\n",
      "Origin_RIC                    uint8\n",
      "Origin_RNO                    uint8\n",
      "Origin_ROA                    uint8\n",
      "Origin_ROC                    uint8\n",
      "Origin_RST                    uint8\n",
      "Origin_RSW                    uint8\n",
      "Origin_SAN                    uint8\n",
      "Origin_SAT                    uint8\n",
      "Origin_SAV                    uint8\n",
      "Origin_SBA                    uint8\n",
      "Origin_SBN                    uint8\n",
      "Origin_SBP                    uint8\n",
      "Origin_SCC                    uint8\n",
      "Origin_SCE                    uint8\n",
      "Origin_SDF                    uint8\n",
      "Origin_SEA                    uint8\n",
      "Origin_SFO                    uint8\n",
      "Origin_SGF                    uint8\n",
      "Origin_SGU                    uint8\n",
      "Origin_SHV                    uint8\n",
      "Origin_SIT                    uint8\n",
      "Origin_SJC                    uint8\n",
      "Origin_SJT                    uint8\n",
      "Origin_SJU                    uint8\n",
      "Origin_SLC                    uint8\n",
      "Origin_SMF                    uint8\n",
      "Origin_SMX                    uint8\n",
      "Origin_SNA                    uint8\n",
      "Origin_SPI                    uint8\n",
      "Origin_SPS                    uint8\n",
      "Origin_SRQ                    uint8\n",
      "Origin_STL                    uint8\n",
      "Origin_STT                    uint8\n",
      "Origin_STX                    uint8\n",
      "Origin_SUN                    uint8\n",
      "Origin_SWF                    uint8\n",
      "Origin_SYR                    uint8\n",
      "Origin_TEX                    uint8\n",
      "Origin_TLH                    uint8\n",
      "Origin_TOL                    uint8\n",
      "Origin_TPA                    uint8\n",
      "Origin_TRI                    uint8\n",
      "Origin_TUL                    uint8\n",
      "Origin_TUP                    uint8\n",
      "Origin_TUS                    uint8\n",
      "Origin_TVC                    uint8\n",
      "Origin_TWF                    uint8\n",
      "Origin_TXK                    uint8\n",
      "Origin_TYR                    uint8\n",
      "Origin_TYS                    uint8\n",
      "Origin_VCT                    uint8\n",
      "Origin_VIS                    uint8\n",
      "Origin_VLD                    uint8\n",
      "Origin_VPS                    uint8\n",
      "Origin_WRG                    uint8\n",
      "Origin_WYS                    uint8\n",
      "Origin_XNA                    uint8\n",
      "Origin_YAK                    uint8\n",
      "Origin_YUM                    uint8\n",
      "Dest_ABE                      uint8\n",
      "Dest_ABI                      uint8\n",
      "Dest_ABQ                      uint8\n",
      "Dest_ABY                      uint8\n",
      "Dest_ACK                      uint8\n",
      "Dest_ACT                      uint8\n",
      "Dest_ACV                      uint8\n",
      "Dest_ACY                      uint8\n",
      "Dest_ADQ                      uint8\n",
      "Dest_AEX                      uint8\n",
      "Dest_AGS                      uint8\n",
      "Dest_AKN                      uint8\n",
      "Dest_ALB                      uint8\n",
      "Dest_AMA                      uint8\n",
      "Dest_ANC                      uint8\n",
      "Dest_APF                      uint8\n",
      "Dest_ASE                      uint8\n",
      "Dest_ATL                      uint8\n",
      "Dest_ATW                      uint8\n",
      "Dest_AUS                      uint8\n",
      "Dest_AVL                      uint8\n",
      "Dest_AVP                      uint8\n",
      "Dest_AZO                      uint8\n",
      "Dest_BDL                      uint8\n",
      "Dest_BET                      uint8\n",
      "Dest_BFL                      uint8\n",
      "Dest_BGM                      uint8\n",
      "Dest_BGR                      uint8\n",
      "Dest_BHM                      uint8\n",
      "Dest_BIL                      uint8\n",
      "Dest_BIS                      uint8\n",
      "Dest_BLI                      uint8\n",
      "Dest_BMI                      uint8\n",
      "Dest_BNA                      uint8\n",
      "Dest_BOI                      uint8\n",
      "Dest_BOS                      uint8\n",
      "Dest_BPT                      uint8\n",
      "Dest_BQK                      uint8\n",
      "Dest_BQN                      uint8\n",
      "Dest_BRO                      uint8\n",
      "Dest_BRW                      uint8\n",
      "Dest_BTM                      uint8\n",
      "Dest_BTR                      uint8\n",
      "Dest_BTV                      uint8\n",
      "Dest_BUF                      uint8\n",
      "Dest_BUR                      uint8\n",
      "Dest_BWI                      uint8\n",
      "Dest_BZN                      uint8\n",
      "Dest_CAE                      uint8\n",
      "Dest_CAK                      uint8\n",
      "Dest_CDC                      uint8\n",
      "Dest_CDV                      uint8\n",
      "Dest_CEC                      uint8\n",
      "Dest_CHA                      uint8\n",
      "Dest_CHO                      uint8\n",
      "Dest_CHS                      uint8\n",
      "Dest_CIC                      uint8\n",
      "Dest_CID                      uint8\n",
      "Dest_CLD                      uint8\n",
      "Dest_CLE                      uint8\n",
      "Dest_CLL                      uint8\n",
      "Dest_CLT                      uint8\n",
      "Dest_CMH                      uint8\n",
      "Dest_CMI                      uint8\n",
      "Dest_COD                      uint8\n",
      "Dest_COS                      uint8\n",
      "Dest_CPR                      uint8\n",
      "Dest_CRP                      uint8\n",
      "Dest_CRW                      uint8\n",
      "Dest_CSG                      uint8\n",
      "Dest_CVG                      uint8\n",
      "Dest_CWA                      uint8\n",
      "Dest_DAB                      uint8\n",
      "Dest_DAL                      uint8\n",
      "Dest_DAY                      uint8\n",
      "Dest_DBQ                      uint8\n",
      "Dest_DCA                      uint8\n",
      "Dest_DEN                      uint8\n",
      "Dest_DFW                      uint8\n",
      "Dest_DHN                      uint8\n",
      "Dest_DLG                      uint8\n",
      "Dest_DLH                      uint8\n",
      "Dest_DRO                      uint8\n",
      "Dest_DSM                      uint8\n",
      "Dest_DTW                      uint8\n",
      "Dest_EGE                      uint8\n",
      "Dest_EKO                      uint8\n",
      "Dest_ELP                      uint8\n",
      "Dest_ERI                      uint8\n",
      "Dest_EUG                      uint8\n",
      "Dest_EVV                      uint8\n",
      "Dest_EWR                      uint8\n",
      "Dest_EYW                      uint8\n",
      "Dest_FAI                      uint8\n",
      "Dest_FAR                      uint8\n",
      "Dest_FAT                      uint8\n",
      "Dest_FAY                      uint8\n",
      "Dest_FCA                      uint8\n",
      "Dest_FLG                      uint8\n",
      "Dest_FLL                      uint8\n",
      "Dest_FLO                      uint8\n",
      "Dest_FNT                      uint8\n",
      "Dest_FSD                      uint8\n",
      "Dest_FSM                      uint8\n",
      "Dest_FWA                      uint8\n",
      "Dest_GEG                      uint8\n",
      "Dest_GFK                      uint8\n",
      "Dest_GGG                      uint8\n",
      "Dest_GJT                      uint8\n",
      "Dest_GNV                      uint8\n",
      "Dest_GPT                      uint8\n",
      "Dest_GRB                      uint8\n",
      "Dest_GRK                      uint8\n",
      "Dest_GRR                      uint8\n",
      "Dest_GSO                      uint8\n",
      "Dest_GSP                      uint8\n",
      "Dest_GST                      uint8\n",
      "Dest_GTF                      uint8\n",
      "Dest_GTR                      uint8\n",
      "Dest_GUC                      uint8\n",
      "Dest_HDN                      uint8\n",
      "Dest_HKY                      uint8\n",
      "Dest_HLN                      uint8\n",
      "Dest_HNL                      uint8\n",
      "Dest_HOU                      uint8\n",
      "Dest_HPN                      uint8\n",
      "Dest_HRL                      uint8\n",
      "Dest_HSV                      uint8\n",
      "Dest_HTS                      uint8\n",
      "Dest_HVN                      uint8\n",
      "Dest_IAD                      uint8\n",
      "Dest_IAH                      uint8\n",
      "Dest_ICT                      uint8\n",
      "Dest_IDA                      uint8\n",
      "Dest_ILG                      uint8\n",
      "Dest_ILM                      uint8\n",
      "Dest_IND                      uint8\n",
      "Dest_IPL                      uint8\n",
      "Dest_ISO                      uint8\n",
      "Dest_ISP                      uint8\n",
      "Dest_ITO                      uint8\n",
      "Dest_IYK                      uint8\n",
      "Dest_JAC                      uint8\n",
      "Dest_JAN                      uint8\n",
      "Dest_JAX                      uint8\n",
      "Dest_JFK                      uint8\n",
      "Dest_JNU                      uint8\n",
      "Dest_KOA                      uint8\n",
      "Dest_KTN                      uint8\n",
      "Dest_LAN                      uint8\n",
      "Dest_LAS                      uint8\n",
      "Dest_LAW                      uint8\n",
      "Dest_LAX                      uint8\n",
      "Dest_LBB                      uint8\n",
      "Dest_LCH                      uint8\n",
      "Dest_LEX                      uint8\n",
      "Dest_LFT                      uint8\n",
      "Dest_LGA                      uint8\n",
      "Dest_LGB                      uint8\n",
      "Dest_LIH                      uint8\n",
      "Dest_LIT                      uint8\n",
      "Dest_LNK                      uint8\n",
      "Dest_LRD                      uint8\n",
      "Dest_LSE                      uint8\n",
      "Dest_LWB                      uint8\n",
      "Dest_LWS                      uint8\n",
      "Dest_LYH                      uint8\n",
      "Dest_MAF                      uint8\n",
      "Dest_MBS                      uint8\n",
      "Dest_MCI                      uint8\n",
      "Dest_MCN                      uint8\n",
      "Dest_MCO                      uint8\n",
      "Dest_MDT                      uint8\n",
      "Dest_MDW                      uint8\n",
      "Dest_MEI                      uint8\n",
      "Dest_MEM                      uint8\n",
      "Dest_MFE                      uint8\n",
      "Dest_MFR                      uint8\n",
      "Dest_MGM                      uint8\n",
      "Dest_MHT                      uint8\n",
      "Dest_MIA                      uint8\n",
      "Dest_MKE                      uint8\n",
      "Dest_MLB                      uint8\n",
      "Dest_MLI                      uint8\n",
      "Dest_MLU                      uint8\n",
      "Dest_MOB                      uint8\n",
      "Dest_MOD                      uint8\n",
      "Dest_MOT                      uint8\n",
      "Dest_MQT                      uint8\n",
      "Dest_MRY                      uint8\n",
      "Dest_MSN                      uint8\n",
      "Dest_MSO                      uint8\n",
      "Dest_MSP                      uint8\n",
      "Dest_MSY                      uint8\n",
      "Dest_MTJ                      uint8\n",
      "Dest_MYR                      uint8\n",
      "Dest_OAK                      uint8\n",
      "Dest_OGG                      uint8\n",
      "Dest_OKC                      uint8\n",
      "Dest_OMA                      uint8\n",
      "Dest_OME                      uint8\n",
      "Dest_ONT                      uint8\n",
      "Dest_ORD                      uint8\n",
      "Dest_ORF                      uint8\n",
      "Dest_OTZ                      uint8\n",
      "Dest_OXR                      uint8\n",
      "Dest_PBI                      uint8\n",
      "Dest_PDX                      uint8\n",
      "Dest_PFN                      uint8\n",
      "Dest_PHF                      uint8\n",
      "Dest_PHL                      uint8\n",
      "Dest_PHX                      uint8\n",
      "Dest_PIA                      uint8\n",
      "Dest_PIE                      uint8\n",
      "Dest_PIH                      uint8\n",
      "Dest_PIT                      uint8\n",
      "Dest_PNS                      uint8\n",
      "Dest_PSC                      uint8\n",
      "Dest_PSE                      uint8\n",
      "Dest_PSG                      uint8\n",
      "Dest_PSP                      uint8\n",
      "Dest_PVD                      uint8\n",
      "Dest_PWM                      uint8\n",
      "Dest_RAP                      uint8\n",
      "Dest_RDD                      uint8\n",
      "Dest_RDM                      uint8\n",
      "Dest_RDU                      uint8\n",
      "Dest_RFD                      uint8\n",
      "Dest_RIC                      uint8\n",
      "Dest_RNO                      uint8\n",
      "Dest_ROA                      uint8\n",
      "Dest_ROC                      uint8\n",
      "Dest_RST                      uint8\n",
      "Dest_RSW                      uint8\n",
      "Dest_SAN                      uint8\n",
      "Dest_SAT                      uint8\n",
      "Dest_SAV                      uint8\n",
      "Dest_SBA                      uint8\n",
      "Dest_SBN                      uint8\n",
      "Dest_SBP                      uint8\n",
      "Dest_SCC                      uint8\n",
      "Dest_SCE                      uint8\n",
      "Dest_SDF                      uint8\n",
      "Dest_SEA                      uint8\n",
      "Dest_SFO                      uint8\n",
      "Dest_SGF                      uint8\n",
      "Dest_SGU                      uint8\n",
      "Dest_SHV                      uint8\n",
      "Dest_SIT                      uint8\n",
      "Dest_SJC                      uint8\n",
      "Dest_SJT                      uint8\n",
      "Dest_SJU                      uint8\n",
      "Dest_SLC                      uint8\n",
      "Dest_SMF                      uint8\n",
      "Dest_SMX                      uint8\n",
      "Dest_SNA                      uint8\n",
      "Dest_SOP                      uint8\n",
      "Dest_SPI                      uint8\n",
      "Dest_SPS                      uint8\n",
      "Dest_SRQ                      uint8\n",
      "Dest_STL                      uint8\n",
      "Dest_STT                      uint8\n",
      "Dest_STX                      uint8\n",
      "Dest_SUN                      uint8\n",
      "Dest_SWF                      uint8\n",
      "Dest_SYR                      uint8\n",
      "Dest_TEX                      uint8\n",
      "Dest_TLH                      uint8\n",
      "Dest_TOL                      uint8\n",
      "Dest_TPA                      uint8\n",
      "Dest_TRI                      uint8\n",
      "Dest_TTN                      uint8\n",
      "Dest_TUL                      uint8\n",
      "Dest_TUP                      uint8\n",
      "Dest_TUS                      uint8\n",
      "Dest_TVC                      uint8\n",
      "Dest_TWF                      uint8\n",
      "Dest_TXK                      uint8\n",
      "Dest_TYR                      uint8\n",
      "Dest_TYS                      uint8\n",
      "Dest_VCT                      uint8\n",
      "Dest_VIS                      uint8\n",
      "Dest_VLD                      uint8\n",
      "Dest_VPS                      uint8\n",
      "Dest_WRG                      uint8\n",
      "Dest_WYS                      uint8\n",
      "Dest_XNA                      uint8\n",
      "Dest_YAK                      uint8\n",
      "Dest_YUM                      uint8\n",
      "UniqueCarrier_AA              uint8\n",
      "UniqueCarrier_AQ              uint8\n",
      "UniqueCarrier_AS              uint8\n",
      "UniqueCarrier_B6              uint8\n",
      "UniqueCarrier_CO              uint8\n",
      "UniqueCarrier_DH              uint8\n",
      "UniqueCarrier_DL              uint8\n",
      "UniqueCarrier_EV              uint8\n",
      "UniqueCarrier_F9              uint8\n",
      "UniqueCarrier_FL              uint8\n",
      "UniqueCarrier_HA              uint8\n",
      "UniqueCarrier_HP              uint8\n",
      "UniqueCarrier_MQ              uint8\n",
      "UniqueCarrier_NW              uint8\n",
      "UniqueCarrier_OH              uint8\n",
      "UniqueCarrier_OO              uint8\n",
      "UniqueCarrier_TZ              uint8\n",
      "UniqueCarrier_UA              uint8\n",
      "UniqueCarrier_US              uint8\n",
      "UniqueCarrier_WN              uint8\n",
      "UniqueCarrier_XE              uint8\n",
      "UniqueCarrier_YV              uint8\n",
      "Dest_type_large_airport       uint8\n",
      "Dest_type_medium_airport      uint8\n",
      "Dest_type_small_airport       uint8\n",
      "Origin_type_large_airport     uint8\n",
      "Origin_type_medium_airport    uint8\n",
      "Origin_type_small_airport     uint8\n",
      "dtypes: int32(3), int64(5), uint8(609)\n",
      "memory usage: 63.0 MB\n"
     ]
    }
   ],
   "source": [
    "data_train.info(verbose=True)"
   ]
  },
  {
   "cell_type": "markdown",
   "metadata": {},
   "source": [
    "# 决策树\n",
    "## holdout method"
   ]
  },
  {
   "cell_type": "code",
   "execution_count": 116,
   "metadata": {},
   "outputs": [],
   "source": [
    "from sklearn.model_selection import train_test_split\n",
    "\n",
    "X=data_train.filter(regex='mae_.*|Origin_type.*|Dest_type.*|Month|DayofMonth|DayOfWeek|Distance')\n",
    "y=data_train.dep_delayed_15min\n",
    "\n",
    "X_train, X_test, y_train, y_test = train_test_split(X, y, test_size=0.3, random_state=123,stratify=y)"
   ]
  },
  {
   "cell_type": "markdown",
   "metadata": {},
   "source": [
    "## 小树拟合看看情况"
   ]
  },
  {
   "cell_type": "code",
   "execution_count": 141,
   "metadata": {},
   "outputs": [],
   "source": [
    "from sklearn.metrics import confusion_matrix\n",
    "from sklearn import tree\n",
    "\n",
    "clf1 = tree.DecisionTreeClassifier(random_state=123,max_depth=8,class_weight='balanced',max_features=10,max_leaf_nodes=100)\n",
    "clf1.fit(X_train,y_train)\n",
    "\n",
    "y_pred = clf1.predict(X_test)\n",
    "\n",
    "cmatrix_clf1 = confusion_matrix(y_test, y_pred, labels=None, sample_weight=None)"
   ]
  },
  {
   "cell_type": "code",
   "execution_count": 142,
   "metadata": {},
   "outputs": [
    {
     "data": {
      "text/plain": [
       "array([[12540, 11747],\n",
       "       [ 1820,  3893]], dtype=int64)"
      ]
     },
     "execution_count": 142,
     "metadata": {},
     "output_type": "execute_result"
    }
   ],
   "source": [
    "cmatrix_clf1\n",
    "#行是预测的\n",
    "#列是实际的\n",
    "#那么实际上我们多把没延误的搞成延误的了，但是我觉着没关系- -。。。"
   ]
  },
  {
   "cell_type": "code",
   "execution_count": 143,
   "metadata": {},
   "outputs": [
    {
     "data": {
      "text/plain": [
       "array([24287,  5713], dtype=int64)"
      ]
     },
     "execution_count": 143,
     "metadata": {},
     "output_type": "execute_result"
    }
   ],
   "source": [
    "np.bincount(y_test)"
   ]
  },
  {
   "cell_type": "code",
   "execution_count": 145,
   "metadata": {},
   "outputs": [
    {
     "name": "stdout",
     "output_type": "stream",
     "text": [
      " recall_score :  0.6814283213723088 \n",
      " precision_score :  0.24891304347826088 \n",
      " f1_score :  0.36463260431789446\n"
     ]
    }
   ],
   "source": [
    "from sklearn.metrics import recall_score\n",
    "rs_org=recall_score(y_test, y_pred, labels=True, pos_label=1, average='binary', sample_weight=None)\n",
    "from sklearn.metrics import precision_score\n",
    "ps_org=precision_score(y_test, y_pred, labels=None, pos_label=1, average='binary', sample_weight=None)\n",
    "from sklearn.metrics import f1_score\n",
    "f1_org=f1_score(y_test, y_pred, labels=None, pos_label=1, average='binary', sample_weight=None)\n",
    "\n",
    "print(' recall_score : ',rs_org,'\\n precision_score : ',ps_org,'\\n f1_score : ',f1_org)"
   ]
  },
  {
   "cell_type": "markdown",
   "metadata": {},
   "source": [
    "## 不对比不知道balance多重要……MD"
   ]
  },
  {
   "cell_type": "code",
   "execution_count": 146,
   "metadata": {},
   "outputs": [
    {
     "name": "stdout",
     "output_type": "stream",
     "text": [
      " recall_score :  0.005251181515841064 \n",
      " precision_score :  0.410958904109589 \n",
      " f1_score :  0.010369858278603525\n"
     ]
    }
   ],
   "source": [
    "from sklearn.metrics import confusion_matrix\n",
    "from sklearn import tree\n",
    "\n",
    "clf1 = tree.DecisionTreeClassifier(random_state=123,max_depth=8,max_features=5,max_leaf_nodes=100)\n",
    "clf1.fit(X_train,y_train)\n",
    "\n",
    "y_pred = clf1.predict(X_test)\n",
    "\n",
    "cmatrix_clf1 = confusion_matrix(y_test, y_pred, labels=None, sample_weight=None)\n",
    "from sklearn.metrics import recall_score\n",
    "rs=recall_score(y_test, y_pred, labels=True, pos_label=1, average='binary', sample_weight=None)\n",
    "from sklearn.metrics import precision_score\n",
    "ps=precision_score(y_test, y_pred, labels=None, pos_label=1, average='binary', sample_weight=None)\n",
    "from sklearn.metrics import f1_score\n",
    "f1=f1_score(y_test, y_pred, labels=None, pos_label=1, average='binary', sample_weight=None)\n",
    "\n",
    "print(' recall_score : ',rs,'\\n precision_score : ',ps,'\\n f1_score : ',f1)"
   ]
  },
  {
   "cell_type": "markdown",
   "metadata": {},
   "source": [
    "## 添加特征\n",
    "**目前已经有的特征是：**"
   ]
  },
  {
   "cell_type": "code",
   "execution_count": 122,
   "metadata": {
    "hide_input": true
   },
   "outputs": [
    {
     "name": "stdout",
     "output_type": "stream",
     "text": [
      "<class 'pandas.core.frame.DataFrame'>\n",
      "RangeIndex: 100000 entries, 0 to 99999\n",
      "Data columns (total 13 columns):\n",
      "Month                         100000 non-null int32\n",
      "DayofMonth                    100000 non-null int32\n",
      "DayOfWeek                     100000 non-null int32\n",
      "Distance                      100000 non-null int64\n",
      "mae_Afternoon                 100000 non-null uint8\n",
      "mae_Morning                   100000 non-null uint8\n",
      "mae_Night                     100000 non-null uint8\n",
      "Dest_type_large_airport       100000 non-null uint8\n",
      "Dest_type_medium_airport      100000 non-null uint8\n",
      "Dest_type_small_airport       100000 non-null uint8\n",
      "Origin_type_large_airport     100000 non-null uint8\n",
      "Origin_type_medium_airport    100000 non-null uint8\n",
      "Origin_type_small_airport     100000 non-null uint8\n",
      "dtypes: int32(3), int64(1), uint8(9)\n",
      "memory usage: 2.8 MB\n"
     ]
    }
   ],
   "source": [
    "X.info()"
   ]
  },
  {
   "cell_type": "markdown",
   "metadata": {
    "hide_input": false
   },
   "source": [
    "**需要测试的是：**  \n",
    "1.UniuqeCarrier_  \n",
    "2.Origin_  \n",
    "3.Dest_  \n",
    "4.DepTime  \n",
    "5.DepTime_hour  \n",
    "6.DepTime_min  "
   ]
  },
  {
   "cell_type": "code",
   "execution_count": 147,
   "metadata": {},
   "outputs": [],
   "source": [
    "X_add, X_test, y_add, y_test = train_test_split(data_train, y, test_size=0.3, random_state=123,stratify=y)\n",
    "\n",
    "X_train_1=X_add.filter(regex='mae_.*|Origin_type.*|Dest_type.*|Month|DayofMonth|DayOfWeek|Distance|UniuqeCarrier_.*')\n",
    "X_test_1=X_test.filter(regex='mae_.*|Origin_type.*|Dest_type.*|Month|DayofMonth|DayOfWeek|Distance|UniuqeCarrier_.*')\n",
    "X_train_2=X_add.filter(regex='mae_.*|Origin_type.*|Dest_type.*|Month|DayofMonth|DayOfWeek|Distance|Origin_.*')\n",
    "X_test_2=X_test.filter(regex='mae_.*|Origin_type.*|Dest_type.*|Month|DayofMonth|DayOfWeek|Distance|Origin_.*')\n",
    "X_train_3=X_add.filter(regex='mae_.*|Origin_type.*|Dest_type.*|Month|DayofMonth|DayOfWeek|Distance|Dest_.*')\n",
    "X_test_3=X_test.filter(regex='mae_.*|Origin_type.*|Dest_type.*|Month|DayofMonth|DayOfWeek|Distance|Dest_.*')\n",
    "X_train_4=X_add.filter(regex='mae_.*|Origin_type.*|Dest_type.*|Month|DayofMonth|DayOfWeek|Distance|DepTime')\n",
    "X_test_4=X_test.filter(regex='mae_.*|Origin_type.*|Dest_type.*|Month|DayofMonth|DayOfWeek|Distance|DepTime')\n",
    "X_train_5=X_add.filter(regex='mae_.*|Origin_type.*|Dest_type.*|Month|DayofMonth|DayOfWeek|Distance|DepTime_hour')\n",
    "X_test_5=X_test.filter(regex='mae_.*|Origin_type.*|Dest_type.*|Month|DayofMonth|DayOfWeek|Distance|DepTime_hour')\n",
    "X_train_6=X_add.filter(regex='mae_.*|Origin_type.*|Dest_type.*|Month|DayofMonth|DayOfWeek|Distance|DepTime_min')\n",
    "X_test_6=X_test.filter(regex='mae_.*|Origin_type.*|Dest_type.*|Month|DayofMonth|DayOfWeek|Distance|DepTime_min')\n",
    "\n",
    "y=data_train.dep_delayed_15min\n",
    "\n",
    "addlist=[X_train_1,X_train_2,X_train_3,X_train_4,X_train_5,X_train_6]\n",
    "addtest=[X_test_1,X_test_2,X_test_3,X_test_4,X_test_5,X_test_6]\n",
    "\n",
    "add_recall=[]\n",
    "add_precision=[]\n",
    "add_f1=[]\n",
    "\n",
    "for X_train,X_test in zip(addlist,addtest):\n",
    "    \n",
    "    clf = tree.DecisionTreeClassifier(random_state=123,max_depth=8,class_weight='balanced',max_features=10,max_leaf_nodes=100)\n",
    "    clf.fit(X_train,y_train)\n",
    "\n",
    "    y_pred = clf.predict(X_test)\n",
    "    \n",
    "    rs=recall_score(y_test, y_pred, labels=True, pos_label=1, average='binary', sample_weight=None)\n",
    "    add_recall.append(rs)\n",
    "    \n",
    "    ps=precision_score(y_test, y_pred, labels=None, pos_label=1, average='binary', sample_weight=None)\n",
    "    add_precision.append(ps)\n",
    "    \n",
    "    f1=f1_score(y_test, y_pred, labels=None, pos_label=1, average='binary', sample_weight=None)\n",
    "    add_f1.append(f1)"
   ]
  },
  {
   "cell_type": "code",
   "execution_count": 164,
   "metadata": {},
   "outputs": [
    {
     "data": {
      "text/plain": [
       "<matplotlib.lines.Line2D at 0x21421f6fe48>"
      ]
     },
     "execution_count": 164,
     "metadata": {},
     "output_type": "execute_result"
    },
    {
     "data": {
      "image/png": "[encoded data removed]",
      "text/plain": [
       "<Figure size 432x288 with 1 Axes>"
      ]
     },
     "metadata": {
      "needs_background": "light"
     },
     "output_type": "display_data"
    }
   ],
   "source": [
    "plt.figure()\n",
    "plt.plot(add_recall)\n",
    "plt.plot(add_precision)\n",
    "plt.plot(add_f1)\n",
    "plt.legend(['recall','precision','f1'])\n",
    "\n",
    "plt.axhline(y=rs_org,color='black', linestyle=':')\n",
    "plt.axhline(y=ps_org,color='black', linestyle=':')\n",
    "plt.axhline(y=f1_org,color='black', linestyle=':')"
   ]
  },
  {
   "cell_type": "markdown",
   "metadata": {},
   "source": [
    "结论应该是添加Dest_应该挺好的\n",
    "## 突发奇想合并起始点和终点的机场大小"
   ]
  },
  {
   "cell_type": "code",
   "execution_count": 168,
   "metadata": {},
   "outputs": [],
   "source": [
    "data_type=data_train.filter(regex='Origin_type.*|Dest_type.*')\n",
    "type_large=data_type['Origin_type_large_airport']+data_type['Dest_type_large_airport']\n",
    "type_medium=data_type['Origin_type_medium_airport']+data_type['Dest_type_medium_airport']\n",
    "type_small=data_type['Origin_type_small_airport']+data_type['Dest_type_small_airport']"
   ]
  },
  {
   "cell_type": "code",
   "execution_count": 171,
   "metadata": {},
   "outputs": [],
   "source": [
    "data_train['ctype_large']=type_large\n",
    "data_train['ctype_medium']=type_medium\n",
    "data_train['ctype_small']=type_small"
   ]
  },
  {
   "cell_type": "code",
   "execution_count": 176,
   "metadata": {},
   "outputs": [
    {
     "name": "stdout",
     "output_type": "stream",
     "text": [
      " recall_score :  0.6915806056362681 \n",
      " precision_score :  0.24794477565108253 \n",
      " f1_score :  0.3650221729490022\n"
     ]
    }
   ],
   "source": [
    "from sklearn.model_selection import train_test_split\n",
    "\n",
    "X=data_train.filter(regex='mae_.*|ctype.*|Month|DayofMonth|DayOfWeek|Distance')\n",
    "y=data_train.dep_delayed_15min\n",
    "\n",
    "X_train, X_test, y_train, y_test = train_test_split(X, y, test_size=0.3, random_state=123,stratify=y)\n",
    "\n",
    "clf = tree.DecisionTreeClassifier(random_state=123,max_depth=8,max_features=5,max_leaf_nodes=100,class_weight='balanced')\n",
    "clf.fit(X_train,y_train)\n",
    "\n",
    "y_pred = clf.predict(X_test)\n",
    "\n",
    "from sklearn.metrics import recall_score\n",
    "rs_c=recall_score(y_test, y_pred, labels=True, pos_label=1, average='binary', sample_weight=None)\n",
    "from sklearn.metrics import precision_score\n",
    "ps_c=precision_score(y_test, y_pred, labels=None, pos_label=1, average='binary', sample_weight=None)\n",
    "from sklearn.metrics import f1_score\n",
    "f1_c=f1_score(y_test, y_pred, labels=None, pos_label=1, average='binary', sample_weight=None)\n",
    "\n",
    "print(' recall_score : ',rs_c,'\\n precision_score : ',ps_c,'\\n f1_score : ',f1_c)"
   ]
  },
  {
   "cell_type": "code",
   "execution_count": 178,
   "metadata": {},
   "outputs": [
    {
     "data": {
      "text/plain": [
       "<matplotlib.lines.Line2D at 0x21427dc04e0>"
      ]
     },
     "execution_count": 178,
     "metadata": {},
     "output_type": "execute_result"
    },
    {
     "data": {
      "image/png": "[encoded data removed]",
      "text/plain": [
       "<Figure size 432x288 with 1 Axes>"
      ]
     },
     "metadata": {
      "needs_background": "light"
     },
     "output_type": "display_data"
    }
   ],
   "source": [
    "X_add, X_test, y_add, y_test = train_test_split(data_train, y, test_size=0.3, random_state=123,stratify=y)\n",
    "\n",
    "X_train_1=X_add.filter(regex='mae_.*|ctype.*|Month|DayofMonth|DayOfWeek|Distance|UniuqeCarrier_.*')\n",
    "X_test_1=X_test.filter(regex='mae_.*|ctype.*|Month|DayofMonth|DayOfWeek|Distance|UniuqeCarrier_.*')\n",
    "X_train_2=X_add.filter(regex='mae_.*|ctype.*|Month|DayofMonth|DayOfWeek|Distance|Origin_.*')\n",
    "X_test_2=X_test.filter(regex='mae_.*|ctype.*|Month|DayofMonth|DayOfWeek|Distance|Origin_.*')\n",
    "X_train_3=X_add.filter(regex='mae_.*|ctype.*|Month|DayofMonth|DayOfWeek|Distance|Dest_.*')\n",
    "X_test_3=X_test.filter(regex='mae_.*|ctype.*|Month|DayofMonth|DayOfWeek|Distance|Dest_.*')\n",
    "X_train_4=X_add.filter(regex='mae_.*|ctype.*|Month|DayofMonth|DayOfWeek|Distance|DepTime')\n",
    "X_test_4=X_test.filter(regex='mae_.*|ctype.*|Month|DayofMonth|DayOfWeek|Distance|DepTime')\n",
    "X_train_5=X_add.filter(regex='mae_.*|ctype.*|Month|DayofMonth|DayOfWeek|Distance|DepTime_hour')\n",
    "X_test_5=X_test.filter(regex='mae_.*|ctype.*|Month|DayofMonth|DayOfWeek|Distance|DepTime_hour')\n",
    "X_train_6=X_add.filter(regex='mae_.*|ctype.*|Month|DayofMonth|DayOfWeek|Distance|DepTime_min')\n",
    "X_test_6=X_test.filter(regex='mae_.*|ctype.*|Month|DayofMonth|DayOfWeek|Distance|DepTime_min')\n",
    "\n",
    "y=data_train.dep_delayed_15min\n",
    "\n",
    "addlist=[X_train_1,X_train_2,X_train_3,X_train_4,X_train_5,X_train_6]\n",
    "addtest=[X_test_1,X_test_2,X_test_3,X_test_4,X_test_5,X_test_6]\n",
    "\n",
    "add_recall=[]\n",
    "add_precision=[]\n",
    "add_f1=[]\n",
    "\n",
    "for X_train,X_test in zip(addlist,addtest):\n",
    "    \n",
    "    clf = tree.DecisionTreeClassifier(random_state=123,max_depth=8,class_weight='balanced',max_features=10,max_leaf_nodes=100)\n",
    "    clf.fit(X_train,y_train)\n",
    "\n",
    "    y_pred = clf.predict(X_test)\n",
    "    \n",
    "    rs=recall_score(y_test, y_pred, labels=True, pos_label=1, average='binary', sample_weight=None)\n",
    "    add_recall.append(rs)\n",
    "    \n",
    "    ps=precision_score(y_test, y_pred, labels=None, pos_label=1, average='binary', sample_weight=None)\n",
    "    add_precision.append(ps)\n",
    "    \n",
    "    f1=f1_score(y_test, y_pred, labels=None, pos_label=1, average='binary', sample_weight=None)\n",
    "    add_f1.append(f1)\n",
    "    \n",
    "plt.figure()\n",
    "plt.plot(add_recall)\n",
    "plt.plot(add_precision)\n",
    "plt.plot(add_f1)\n",
    "plt.legend(['recall','precision','f1'])\n",
    "\n",
    "plt.axhline(y=rs_org,color='black', linestyle=':')\n",
    "plt.axhline(y=ps_org,color='black', linestyle=':')\n",
    "plt.axhline(y=f1_org,color='black', linestyle=':')\n",
    "\n",
    "plt.axhline(y=rs_c,color='red', linestyle=':')\n",
    "plt.axhline(y=ps_c,color='red', linestyle=':')\n",
    "plt.axhline(y=f1_c,color='red', linestyle=':')"
   ]
  },
  {
   "cell_type": "markdown",
   "metadata": {},
   "source": [
    "事实证明效果差不多。。。那就用这个合并的吧，特征少一个是一个"
   ]
  }
 ],
 "metadata": {
  "kernelspec": {
   "display_name": "Python 3",
   "language": "python",
   "name": "python3"
  },
  "language_info": {
   "codemirror_mode": {
    "name": "ipython",
    "version": 3
   },
   "file_extension": ".py",
   "mimetype": "text/x-python",
   "name": "python",
   "nbconvert_exporter": "python",
   "pygments_lexer": "ipython3",
   "version": "3.7.3"
  },
  "toc": {
   "base_numbering": 1,
   "nav_menu": {},
   "number_sections": true,
   "sideBar": true,
   "skip_h1_title": false,
   "title_cell": "Table of Contents",
   "title_sidebar": "Contents",
   "toc_cell": false,
   "toc_position": {
    "height": "calc(100% - 180px)",
    "left": "10px",
    "top": "150px",
    "width": "288.72px"
   },
   "toc_section_display": true,
   "toc_window_display": true
  },
  "varInspector": {
   "cols": {
    "lenName": 16,
    "lenType": 16,
    "lenVar": 40
   },
   "kernels_config": {
    "python": {
     "delete_cmd_postfix": "",
     "delete_cmd_prefix": "del ",
     "library": "var_list.py",
     "varRefreshCmd": "print(var_dic_list())"
    },
    "r": {
     "delete_cmd_postfix": ") ",
     "delete_cmd_prefix": "rm(",
     "library": "var_list.r",
     "varRefreshCmd": "cat(var_dic_list()) "
    }
   },
   "types_to_exclude": [
    "module",
    "function",
    "builtin_function_or_method",
    "instance",
    "_Feature"
   ],
   "window_display": false
  }
 },
 "nbformat": 4,
 "nbformat_minor": 2
}
